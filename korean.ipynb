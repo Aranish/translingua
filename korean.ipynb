{
 "cells": [
  {
   "cell_type": "code",
   "execution_count": 1,
   "id": "63b99a8d",
   "metadata": {},
   "outputs": [],
   "source": [
    "from korean_romanizer.romanizer import Romanizer"
   ]
  },
  {
   "cell_type": "code",
   "execution_count": 2,
   "id": "2e5a9d8f",
   "metadata": {},
   "outputs": [],
   "source": [
    "text = \"보고싶어\""
   ]
  },
  {
   "cell_type": "code",
   "execution_count": 3,
   "id": "eb0d5b61",
   "metadata": {},
   "outputs": [],
   "source": [
    "r = Romanizer(text)"
   ]
  },
  {
   "cell_type": "code",
   "execution_count": 4,
   "id": "d0015e4b",
   "metadata": {},
   "outputs": [
    {
     "data": {
      "text/plain": [
       "'bogosipeo'"
      ]
     },
     "execution_count": 4,
     "metadata": {},
     "output_type": "execute_result"
    }
   ],
   "source": [
    "r.romanize()"
   ]
  },
  {
   "cell_type": "code",
   "execution_count": 5,
   "id": "ad21543b",
   "metadata": {},
   "outputs": [],
   "source": [
    "from translate import Translator"
   ]
  },
  {
   "cell_type": "code",
   "execution_count": 23,
   "id": "e26e2827",
   "metadata": {},
   "outputs": [],
   "source": [
    "translator= Translator(from_lang = \"english\", to_lang = \"korean\")"
   ]
  },
  {
   "cell_type": "code",
   "execution_count": 6,
   "id": "ebf9e591",
   "metadata": {},
   "outputs": [],
   "source": [
    "translator= Translator(from_lang = \"korean\", to_lang = \"english\")"
   ]
  },
  {
   "cell_type": "code",
   "execution_count": 7,
   "id": "93eef8d8",
   "metadata": {},
   "outputs": [],
   "source": [
    "translation = translator.translate(\"보고싶어\")"
   ]
  },
  {
   "cell_type": "code",
   "execution_count": 8,
   "id": "6a113fbb",
   "metadata": {},
   "outputs": [
    {
     "data": {
      "text/plain": [
       "'miss you'"
      ]
     },
     "execution_count": 8,
     "metadata": {},
     "output_type": "execute_result"
    }
   ],
   "source": [
    "translation"
   ]
  },
  {
   "cell_type": "code",
   "execution_count": null,
   "id": "adef8357",
   "metadata": {},
   "outputs": [],
   "source": []
  },
  {
   "cell_type": "code",
   "execution_count": 2,
   "id": "e632973b",
   "metadata": {},
   "outputs": [],
   "source": [
    "from polyglot.transliteration import Transliterator"
   ]
  },
  {
   "cell_type": "code",
   "execution_count": 15,
   "id": "e56b806c",
   "metadata": {},
   "outputs": [],
   "source": [
    "transliterator = Transliterator(source_lang=\"ko\", target_lang=\"en\")"
   ]
  },
  {
   "cell_type": "code",
   "execution_count": 26,
   "id": "04fcb5c3",
   "metadata": {},
   "outputs": [
    {
     "name": "stdout",
     "output_type": "stream",
     "text": [
      "\n"
     ]
    }
   ],
   "source": [
    "print(transliterator.transliterate(\"보고싶어\"))"
   ]
  },
  {
   "cell_type": "code",
   "execution_count": 31,
   "id": "0132d29c",
   "metadata": {},
   "outputs": [
    {
     "data": {
      "text/plain": [
       "''"
      ]
     },
     "execution_count": 31,
     "metadata": {},
     "output_type": "execute_result"
    }
   ],
   "source": [
    "transliterator.transliterate(\"안녕\")"
   ]
  },
  {
   "cell_type": "code",
   "execution_count": 1,
   "id": "e9747632",
   "metadata": {},
   "outputs": [],
   "source": [
    "from textblob import TextBlob"
   ]
  },
  {
   "cell_type": "code",
   "execution_count": 10,
   "id": "6b1e3007",
   "metadata": {},
   "outputs": [
    {
     "data": {
      "text/plain": [
       "'zh-CN'"
      ]
     },
     "execution_count": 10,
     "metadata": {},
     "output_type": "execute_result"
    }
   ],
   "source": [
    "b = TextBlob(\" \"+ \"你好\" +\" \")\n",
    "b.detect_language()"
   ]
  },
  {
   "cell_type": "code",
   "execution_count": 11,
   "id": "511d5bc7",
   "metadata": {},
   "outputs": [],
   "source": []
  },
  {
   "cell_type": "code",
   "execution_count": null,
   "id": "20f891fa",
   "metadata": {},
   "outputs": [],
   "source": []
  },
  {
   "cell_type": "code",
   "execution_count": null,
   "id": "1c970fc8",
   "metadata": {},
   "outputs": [],
   "source": []
  },
  {
   "cell_type": "code",
   "execution_count": null,
   "id": "e3af21c4",
   "metadata": {},
   "outputs": [],
   "source": []
  }
 ],
 "metadata": {
  "kernelspec": {
   "display_name": "Python 3 (ipykernel)",
   "language": "python",
   "name": "python3"
  },
  "language_info": {
   "codemirror_mode": {
    "name": "ipython",
    "version": 3
   },
   "file_extension": ".py",
   "mimetype": "text/x-python",
   "name": "python",
   "nbconvert_exporter": "python",
   "pygments_lexer": "ipython3",
   "version": "3.9.7"
  }
 },
 "nbformat": 4,
 "nbformat_minor": 5
}
