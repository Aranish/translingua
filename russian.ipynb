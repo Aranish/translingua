{
 "cells": [
  {
   "cell_type": "code",
   "execution_count": 2,
   "id": "6ba68a29",
   "metadata": {},
   "outputs": [],
   "source": [
    "import cyrtranslit as cyr"
   ]
  },
  {
   "cell_type": "code",
   "execution_count": 3,
   "id": "21628e9a",
   "metadata": {},
   "outputs": [
    {
     "data": {
      "text/plain": [
       "['bg', 'me', 'mk', 'ru', 'sr', 'tj', 'ua']"
      ]
     },
     "execution_count": 3,
     "metadata": {},
     "output_type": "execute_result"
    }
   ],
   "source": [
    "cyr.supported()"
   ]
  },
  {
   "cell_type": "code",
   "execution_count": 4,
   "id": "f5ea78bf",
   "metadata": {},
   "outputs": [
    {
     "data": {
      "text/plain": [
       "'Moyo sudno na vozdushnoj podushke polno ugrej'"
      ]
     },
     "execution_count": 4,
     "metadata": {},
     "output_type": "execute_result"
    }
   ],
   "source": [
    "cyr.to_latin(\"Моё судно на воздушной подушке полно угрей\", \"ru\")"
   ]
  },
  {
   "cell_type": "code",
   "execution_count": 1,
   "id": "34b5497f",
   "metadata": {},
   "outputs": [],
   "source": [
    "from translate import Translator"
   ]
  },
  {
   "cell_type": "code",
   "execution_count": 2,
   "id": "0234dfd1",
   "metadata": {},
   "outputs": [],
   "source": [
    "translator= Translator(from_lang = \"en\", to_lang = \"ru\")"
   ]
  },
  {
   "cell_type": "code",
   "execution_count": 3,
   "id": "7a179305",
   "metadata": {},
   "outputs": [],
   "source": [
    "translation = translator.translate(\"My hovercraft is full of eel\")"
   ]
  },
  {
   "cell_type": "code",
   "execution_count": 4,
   "id": "9ff578c0",
   "metadata": {},
   "outputs": [
    {
     "data": {
      "text/plain": [
       "'Моё судно на воздушной подушке полно угрей'"
      ]
     },
     "execution_count": 4,
     "metadata": {},
     "output_type": "execute_result"
    }
   ],
   "source": [
    "translation"
   ]
  },
  {
   "cell_type": "code",
   "execution_count": 9,
   "id": "dbc61de4",
   "metadata": {},
   "outputs": [
    {
     "data": {
      "text/plain": [
       "'My hovercraft is full of eel'"
      ]
     },
     "execution_count": 9,
     "metadata": {},
     "output_type": "execute_result"
    }
   ],
   "source": [
    "Translator(from_lang = \"ru\", to_lang = \"english\").translate(\"Моё судно на воздушной подушке полно угрей\")"
   ]
  },
  {
   "cell_type": "code",
   "execution_count": null,
   "id": "0f95ebe3",
   "metadata": {},
   "outputs": [],
   "source": []
  }
 ],
 "metadata": {
  "kernelspec": {
   "display_name": "Python 3 (ipykernel)",
   "language": "python",
   "name": "python3"
  },
  "language_info": {
   "codemirror_mode": {
    "name": "ipython",
    "version": 3
   },
   "file_extension": ".py",
   "mimetype": "text/x-python",
   "name": "python",
   "nbconvert_exporter": "python",
   "pygments_lexer": "ipython3",
   "version": "3.9.7"
  }
 },
 "nbformat": 4,
 "nbformat_minor": 5
}
