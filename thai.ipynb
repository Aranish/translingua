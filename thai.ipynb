{
 "cells": [
  {
   "cell_type": "code",
   "execution_count": 1,
   "id": "6ca154f8",
   "metadata": {},
   "outputs": [],
   "source": [
    "from pythainlp.transliterate import romanize as thai_rom"
   ]
  },
  {
   "cell_type": "code",
   "execution_count": 2,
   "id": "68a07555",
   "metadata": {},
   "outputs": [
    {
     "data": {
      "text/plain": [
       "'thotsiangphatataipenaktnlatin'"
      ]
     },
     "execution_count": 2,
     "metadata": {},
     "output_type": "execute_result"
    }
   ],
   "source": [
    "thai_rom(\"ถอดเสียงภาษาไทยเป็นอักษรละติน\")"
   ]
  },
  {
   "cell_type": "code",
   "execution_count": 1,
   "id": "280d83c5",
   "metadata": {},
   "outputs": [],
   "source": [
    "from translate import Translator"
   ]
  },
  {
   "cell_type": "code",
   "execution_count": 2,
   "id": "700d10e0",
   "metadata": {},
   "outputs": [],
   "source": [
    "translator= Translator(from_lang = \"th\", to_lang = \"en\")"
   ]
  },
  {
   "cell_type": "code",
   "execution_count": 3,
   "id": "5f435110",
   "metadata": {},
   "outputs": [],
   "source": [
    "translation = translator.translate(\"ถอดเสียงภาษาไทยเป็นอักษรละติน\")"
   ]
  },
  {
   "cell_type": "code",
   "execution_count": 4,
   "id": "f26e710d",
   "metadata": {},
   "outputs": [
    {
     "data": {
      "text/plain": [
       "'Transliteration of Thai sounds into Latin characters.'"
      ]
     },
     "execution_count": 4,
     "metadata": {},
     "output_type": "execute_result"
    }
   ],
   "source": [
    "translation"
   ]
  },
  {
   "cell_type": "code",
   "execution_count": 8,
   "id": "b2b2904b",
   "metadata": {},
   "outputs": [
    {
     "data": {
      "text/plain": [
       "'Transliteration of Thai sounds into Latin characters.'"
      ]
     },
     "execution_count": 8,
     "metadata": {},
     "output_type": "execute_result"
    }
   ],
   "source": [
    "Translator(from_lang = \"thai\", to_lang = \"english\").translate(\"ถอดเสียงภาษาไทยเป็นอักษรละติน\")"
   ]
  },
  {
   "cell_type": "code",
   "execution_count": null,
   "id": "2ac8e05e",
   "metadata": {},
   "outputs": [],
   "source": []
  }
 ],
 "metadata": {
  "kernelspec": {
   "display_name": "Python 3 (ipykernel)",
   "language": "python",
   "name": "python3"
  },
  "language_info": {
   "codemirror_mode": {
    "name": "ipython",
    "version": 3
   },
   "file_extension": ".py",
   "mimetype": "text/x-python",
   "name": "python",
   "nbconvert_exporter": "python",
   "pygments_lexer": "ipython3",
   "version": "3.9.7"
  }
 },
 "nbformat": 4,
 "nbformat_minor": 5
}
