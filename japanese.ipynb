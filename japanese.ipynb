{
 "cells": [
  {
   "cell_type": "code",
   "execution_count": 1,
   "id": "f14d659c",
   "metadata": {},
   "outputs": [],
   "source": [
    "from cutlet import Cutlet"
   ]
  },
  {
   "cell_type": "code",
   "execution_count": null,
   "id": "496a9c56",
   "metadata": {},
   "outputs": [],
   "source": []
  },
  {
   "cell_type": "code",
   "execution_count": 2,
   "id": "fa1f2b2f",
   "metadata": {},
   "outputs": [],
   "source": [
    "katsu = Cutlet()"
   ]
  },
  {
   "cell_type": "code",
   "execution_count": 3,
   "id": "b7772963",
   "metadata": {},
   "outputs": [
    {
     "data": {
      "text/plain": [
       "'Arigatou gozaimasu'"
      ]
     },
     "execution_count": 3,
     "metadata": {},
     "output_type": "execute_result"
    }
   ],
   "source": [
    "katsu.romaji(\"ありがとうございます\")"
   ]
  },
  {
   "cell_type": "code",
   "execution_count": 2,
   "id": "bedc692c",
   "metadata": {},
   "outputs": [],
   "source": [
    "from translate import Translator"
   ]
  },
  {
   "cell_type": "code",
   "execution_count": 3,
   "id": "85cc571b",
   "metadata": {},
   "outputs": [],
   "source": [
    "translator= Translator(from_lang = \"ja\", to_lang = \"en\")"
   ]
  },
  {
   "cell_type": "code",
   "execution_count": 4,
   "id": "64c3c0d4",
   "metadata": {},
   "outputs": [],
   "source": [
    "translation = translator.translate(\"ありがとうございます\")"
   ]
  },
  {
   "cell_type": "code",
   "execution_count": 5,
   "id": "dffa062d",
   "metadata": {},
   "outputs": [
    {
     "data": {
      "text/plain": [
       "'Thank you very much.'"
      ]
     },
     "execution_count": 5,
     "metadata": {},
     "output_type": "execute_result"
    }
   ],
   "source": [
    "translation"
   ]
  },
  {
   "cell_type": "code",
   "execution_count": null,
   "id": "74584f52",
   "metadata": {},
   "outputs": [],
   "source": []
  }
 ],
 "metadata": {
  "kernelspec": {
   "display_name": "Python 3 (ipykernel)",
   "language": "python",
   "name": "python3"
  },
  "language_info": {
   "codemirror_mode": {
    "name": "ipython",
    "version": 3
   },
   "file_extension": ".py",
   "mimetype": "text/x-python",
   "name": "python",
   "nbconvert_exporter": "python",
   "pygments_lexer": "ipython3",
   "version": "3.9.7"
  }
 },
 "nbformat": 4,
 "nbformat_minor": 5
}
