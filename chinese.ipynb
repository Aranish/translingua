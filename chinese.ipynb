{
 "cells": [
  {
   "cell_type": "code",
   "execution_count": 2,
   "id": "6403f102",
   "metadata": {},
   "outputs": [],
   "source": [
    "from xpinyin import Pinyin"
   ]
  },
  {
   "cell_type": "code",
   "execution_count": 3,
   "id": "aaf90f04",
   "metadata": {},
   "outputs": [],
   "source": [
    "p = Pinyin()"
   ]
  },
  {
   "cell_type": "code",
   "execution_count": 4,
   "id": "f850a280",
   "metadata": {},
   "outputs": [
    {
     "data": {
      "text/plain": [
       "'ni-hao'"
      ]
     },
     "execution_count": 4,
     "metadata": {},
     "output_type": "execute_result"
    }
   ],
   "source": [
    "p.get_pinyin(\"你好\")"
   ]
  },
  {
   "cell_type": "code",
   "execution_count": 5,
   "id": "e6e4aacc",
   "metadata": {},
   "outputs": [],
   "source": [
    "from translate import Translator"
   ]
  },
  {
   "cell_type": "code",
   "execution_count": 6,
   "id": "4e606229",
   "metadata": {},
   "outputs": [],
   "source": [
    "translator= Translator(from_lang = \"zh\", to_lang = \"english\")"
   ]
  },
  {
   "cell_type": "code",
   "execution_count": 7,
   "id": "3381c315",
   "metadata": {},
   "outputs": [],
   "source": [
    "translation = translator.translate(\"你好\")"
   ]
  },
  {
   "cell_type": "code",
   "execution_count": 8,
   "id": "32e53ec8",
   "metadata": {},
   "outputs": [
    {
     "data": {
      "text/plain": [
       "'Hello'"
      ]
     },
     "execution_count": 8,
     "metadata": {},
     "output_type": "execute_result"
    }
   ],
   "source": [
    "translation"
   ]
  },
  {
   "cell_type": "code",
   "execution_count": null,
   "id": "fa9e91c8",
   "metadata": {},
   "outputs": [],
   "source": []
  }
 ],
 "metadata": {
  "kernelspec": {
   "display_name": "Python 3 (ipykernel)",
   "language": "python",
   "name": "python3"
  },
  "language_info": {
   "codemirror_mode": {
    "name": "ipython",
    "version": 3
   },
   "file_extension": ".py",
   "mimetype": "text/x-python",
   "name": "python",
   "nbconvert_exporter": "python",
   "pygments_lexer": "ipython3",
   "version": "3.9.7"
  }
 },
 "nbformat": 4,
 "nbformat_minor": 5
}
