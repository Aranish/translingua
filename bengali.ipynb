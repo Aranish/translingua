{
 "cells": [
  {
   "cell_type": "code",
   "execution_count": 1,
   "id": "a3a2d573",
   "metadata": {},
   "outputs": [],
   "source": [
    "from indic_transliteration import sanscript \n",
    "#from indic_transliteration.sanscript import SchemeMap, SCHEMES, transliterate"
   ]
  },
  {
   "cell_type": "code",
   "execution_count": null,
   "id": "2a1799dd",
   "metadata": {},
   "outputs": [],
   "source": []
  },
  {
   "cell_type": "code",
   "execution_count": 2,
   "id": "18f5da74",
   "metadata": {},
   "outputs": [
    {
     "name": "stdout",
     "output_type": "stream",
     "text": [
      "Object `transliterate` not found.\n"
     ]
    }
   ],
   "source": [
    "?transliterate"
   ]
  },
  {
   "cell_type": "code",
   "execution_count": 3,
   "id": "3353a550",
   "metadata": {},
   "outputs": [],
   "source": [
    "data = 'ইদম্ অদ্ভুতম্'"
   ]
  },
  {
   "cell_type": "code",
   "execution_count": 4,
   "id": "72cb8419",
   "metadata": {},
   "outputs": [
    {
     "data": {
      "text/plain": [
       "'idam adbhutam'"
      ]
     },
     "execution_count": 4,
     "metadata": {},
     "output_type": "execute_result"
    }
   ],
   "source": [
    "sanscript.transliterate(\"ইদম্ অদ্ভুতম্\", sanscript.BENGALI, sanscript.ITRANS)"
   ]
  },
  {
   "cell_type": "code",
   "execution_count": 5,
   "id": "100ccdec",
   "metadata": {},
   "outputs": [
    {
     "name": "stdout",
     "output_type": "stream",
     "text": [
      "idam adbhutam\n"
     ]
    }
   ],
   "source": [
    "print(sanscript.transliterate(\"इदम् अद्भुतम्\", sanscript.DEVANAGARI, sanscript.ITRANS))"
   ]
  },
  {
   "cell_type": "code",
   "execution_count": 6,
   "id": "41a667cf",
   "metadata": {},
   "outputs": [
    {
     "name": "stdout",
     "output_type": "stream",
     "text": [
      "arumai\n"
     ]
    }
   ],
   "source": [
    "print(sanscript.transliterate(\"அருமை\", sanscript.TAMIL, sanscript.ITRANS))"
   ]
  },
  {
   "cell_type": "code",
   "execution_count": 7,
   "id": "b80ba3c8",
   "metadata": {},
   "outputs": [
    {
     "name": "stdout",
     "output_type": "stream",
     "text": [
      "idam adbhutam\n"
     ]
    }
   ],
   "source": [
    "print(sanscript.transliterate(\"ఇదమ్ అద్భుతమ్\", sanscript.TELUGU, sanscript.ITRANS))"
   ]
  },
  {
   "cell_type": "code",
   "execution_count": null,
   "id": "811e8b32",
   "metadata": {},
   "outputs": [],
   "source": []
  },
  {
   "cell_type": "code",
   "execution_count": 1,
   "id": "844be044",
   "metadata": {},
   "outputs": [],
   "source": [
    "from translate import Translator"
   ]
  },
  {
   "cell_type": "code",
   "execution_count": 3,
   "id": "ae7ea035",
   "metadata": {},
   "outputs": [
    {
     "data": {
      "text/plain": [
       "'অসাধারণ'"
      ]
     },
     "execution_count": 3,
     "metadata": {},
     "output_type": "execute_result"
    }
   ],
   "source": [
    "translator= Translator(from_lang = \"en\", to_lang = \"bn\")\n",
    "translator.translate(\"Great\")"
   ]
  },
  {
   "cell_type": "code",
   "execution_count": 4,
   "id": "ff7483b7",
   "metadata": {},
   "outputs": [
    {
     "data": {
      "text/plain": [
       "'बेहतरीन'"
      ]
     },
     "execution_count": 4,
     "metadata": {},
     "output_type": "execute_result"
    }
   ],
   "source": [
    "translator= Translator(from_lang = \"en\", to_lang = \"hi\")\n",
    "translator.translate(\"Great\")"
   ]
  },
  {
   "cell_type": "code",
   "execution_count": 5,
   "id": "2e2b0350",
   "metadata": {},
   "outputs": [
    {
     "data": {
      "text/plain": [
       "'அருமை.'"
      ]
     },
     "execution_count": 5,
     "metadata": {},
     "output_type": "execute_result"
    }
   ],
   "source": [
    "translator= Translator(from_lang = \"en\", to_lang = \"ta\")\n",
    "translator.translate(\"Great\")"
   ]
  },
  {
   "cell_type": "code",
   "execution_count": 6,
   "id": "9a496e55",
   "metadata": {},
   "outputs": [
    {
     "data": {
      "text/plain": [
       "'గొప్పది.'"
      ]
     },
     "execution_count": 6,
     "metadata": {},
     "output_type": "execute_result"
    }
   ],
   "source": [
    "translator= Translator(from_lang = \"en\", to_lang = \"te\")\n",
    "translator.translate(\"Great\")"
   ]
  },
  {
   "cell_type": "code",
   "execution_count": null,
   "id": "869f1ea3",
   "metadata": {},
   "outputs": [],
   "source": []
  }
 ],
 "metadata": {
  "kernelspec": {
   "display_name": "Python 3 (ipykernel)",
   "language": "python",
   "name": "python3"
  },
  "language_info": {
   "codemirror_mode": {
    "name": "ipython",
    "version": 3
   },
   "file_extension": ".py",
   "mimetype": "text/x-python",
   "name": "python",
   "nbconvert_exporter": "python",
   "pygments_lexer": "ipython3",
   "version": "3.9.7"
  }
 },
 "nbformat": 4,
 "nbformat_minor": 5
}
